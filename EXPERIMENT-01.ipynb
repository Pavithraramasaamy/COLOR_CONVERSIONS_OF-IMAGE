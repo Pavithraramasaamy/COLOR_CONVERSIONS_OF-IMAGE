{
 "cells": [
  {
   "cell_type": "code",
   "execution_count": 164,
   "id": "ee5c30d2-29f5-4d71-abfe-fcbd4802132b",
   "metadata": {},
   "outputs": [],
   "source": [
    "import cv2\n",
    "image=cv2.imread('virat.jpeg')\n",
    "cv2.imshow('Cricket',image)\n",
    "cv2.waitKey(0)\n",
    "cv2.destroyAllWindows()"
   ]
  },
  {
   "cell_type": "code",
   "execution_count": 165,
   "id": "e2c36c73-3580-43fc-a22e-82263c0640a2",
   "metadata": {},
   "outputs": [],
   "source": [
    "import cv2\n",
    "image = cv2.imread(\"virat.jpeg\")\n",
    "image = cv2.resize(image, (400, 300))\n",
    "res = cv2.line(image, (0, 0), (image.shape[1], image.shape[0]), (255,0,0), 10)\n",
    "cv2.imshow('Cricket', res)\n",
    "cv2.waitKey(0)\n",
    "cv2.destroyAllWindows()"
   ]
  },
  {
   "cell_type": "code",
   "execution_count": 166,
   "id": "e5187cd4-3d93-4dff-84b0-ea34f86a06f2",
   "metadata": {},
   "outputs": [],
   "source": [
    "import cv2\n",
    "image = cv2.imread(\"virat.jpeg\")\n",
    "image = cv2.resize(image, (400, 300))\n",
    "height, width, _ = image.shape\n",
    "center_coordinates = (width // 2, height // 2)\n",
    "res = cv2.circle(image, center_coordinates, 120, (0, 255, 0), 10)\n",
    "cv2.imshow('Cricket', res)\n",
    "cv2.waitKey(0)\n",
    "cv2.destroyAllWindows()"
   ]
  },
  {
   "cell_type": "code",
   "execution_count": 167,
   "id": "1d6b0f84-c90d-483b-a1ce-44ff51142b9a",
   "metadata": {},
   "outputs": [],
   "source": [
    "import cv2\n",
    "image = cv2.imread(\"virat.jpeg\")\n",
    "image = cv2.resize(image, (400, 300))\n",
    "start = (150, 100)\n",
    "stop = (300, 200)\n",
    "color = (255, 255, 100)\n",
    "thickness = 10           \n",
    "res_img = cv2.rectangle(image, start, stop, color, thickness)\n",
    "cv2.imshow('Cricket', res_img)\n",
    "cv2.waitKey(0)\n",
    "cv2.destroyAllWindows()"
   ]
  },
  {
   "cell_type": "code",
   "execution_count": 168,
   "id": "2d94524b-23d2-48d0-ada5-967b2a582579",
   "metadata": {},
   "outputs": [],
   "source": [
    "import cv2\n",
    "image = cv2.imread(\"virat.jpeg\")\n",
    "image = cv2.resize(image, (400, 300))\n",
    "text = \"ViratKohli\"\n",
    "position = (10, 50)\n",
    "font = cv2.FONT_HERSHEY_SIMPLEX\n",
    "font_scale = 1\n",
    "color = (255, 255, 255) \n",
    "thickness = 2\n",
    "res = cv2.putText(image, text, position, font, font_scale, color, thickness, cv2.LINE_AA)\n",
    "cv2.imshow('Cricket', res)\n",
    "cv2.waitKey(0)\n",
    "cv2.destroyAllWindows()"
   ]
  },
  {
   "cell_type": "code",
   "execution_count": 169,
   "id": "3a6e5a4a-3cd0-4984-9cd7-bf120eccfc34",
   "metadata": {},
   "outputs": [],
   "source": [
    "import cv2\n",
    "image = cv2.imread('virat.jpeg',1)\n",
    "image = cv2.resize(image,(300,200))\n",
    "cv2.imshow('ORIGINAL IMAGE',image)\n",
    "hsv = cv2.cvtColor(image,cv2.COLOR_RGB2HSV)\n",
    "cv2.imshow('RGB2HSV',hsv)\n",
    "cv2.waitKey(0)\n",
    "cv2.destroyAllWindows()"
   ]
  },
  {
   "cell_type": "code",
   "execution_count": 170,
   "id": "71f493b2-77cb-4f7b-a633-067e82bfa43b",
   "metadata": {},
   "outputs": [],
   "source": [
    "import cv2\n",
    "image = cv2.imread('virat.jpeg',1)\n",
    "image = cv2.resize(image,(300,200))\n",
    "cv2.imshow('ORIGINAL IMAGE',image)\n",
    "gray = cv2.cvtColor(image,cv2.COLOR_RGB2GRAY)\n",
    "cv2.imshow('RGB2GRAY',gray)\n",
    "cv2.waitKey(0)\n",
    "cv2.destroyAllWindows()"
   ]
  },
  {
   "cell_type": "code",
   "execution_count": 171,
   "id": "0d76f1c3-95c0-4f6e-adc7-160806a7736d",
   "metadata": {},
   "outputs": [],
   "source": [
    "import cv2\n",
    "image = cv2.imread('virat.jpeg',1)\n",
    "image = cv2.resize(image,(300,200))\n",
    "cv2.imshow('ORIGINAL IMAGE',image)\n",
    "YCrCb = cv2.cvtColor(image, cv2.COLOR_BGR2YCrCb)\n",
    "cv2.imshow('RGB-2-YCrCb',YCrCb)\n",
    "cv2.waitKey(0)\n",
    "cv2.destroyAllWindows()"
   ]
  },
  {
   "cell_type": "code",
   "execution_count": 172,
   "id": "ce5deda5-bdde-4f63-ba63-ae3aade6686c",
   "metadata": {},
   "outputs": [],
   "source": [
    "import cv2\n",
    "image = cv2.imread('virat.jpeg',1)\n",
    "image = cv2.resize(image,(300,200))\n",
    "cv2.imshow('ORIGINAL IMAGE',image)\n",
    "RGB = cv2.cvtColor(image,cv2.COLOR_HSV2BGR)\n",
    "cv2.imshow('HSV2RGB',RGB)\n",
    "cv2.waitKey(0)\n",
    "cv2.destroyAllWindows()"
   ]
  },
  {
   "cell_type": "code",
   "execution_count": 173,
   "id": "3d8d4c1a-b4a6-4730-ba12-007334cf6246",
   "metadata": {},
   "outputs": [
    {
     "name": "stdout",
     "output_type": "stream",
     "text": [
      "Pixel value at (100, 100): [206 211 210]\n"
     ]
    }
   ],
   "source": [
    "import cv2\n",
    "image = cv2.imread(\"virat.jpeg\")\n",
    "pixel_value = image[100, 100]\n",
    "print(f\"Pixel value at (100, 100): {pixel_value}\")"
   ]
  },
  {
   "cell_type": "code",
   "execution_count": 174,
   "id": "bda29a2d-be51-43a7-897b-ed6b3dc2fb0c",
   "metadata": {},
   "outputs": [],
   "source": [
    "import cv2\n",
    "image = cv2.imread('virat.jpeg',1)\n",
    "image = cv2.resize(image,(400,300))\n",
    "cv2.imshow('ORIGINAL IMAGE',image)\n",
    "image[200, 200] = [255, 255, 255] \n",
    "cv2.imshow('MODIFIED IMAGE', image)\n",
    "cv2.waitKey(0)\n",
    "cv2.destroyAllWindows()"
   ]
  },
  {
   "cell_type": "code",
   "execution_count": 175,
   "id": "285ecabd-20aa-499d-8114-5cfdd87823c1",
   "metadata": {},
   "outputs": [],
   "source": [
    "cv2.imshow('ORIGINAL IMAGE',image)\n",
    "resized_image = cv2.resize(image, (image.shape[1] // 2, image.shape[0] // 2))\n",
    "cv2.imshow('RESIZED IMAGE', resized_image)\n",
    "cv2.waitKey(0)\n",
    "cv2.destroyAllWindows()"
   ]
  },
  {
   "cell_type": "code",
   "execution_count": 176,
   "id": "fcd3ae05-5011-4825-be12-d62a46cc3db9",
   "metadata": {},
   "outputs": [],
   "source": [
    "import cv2\n",
    "image = cv2.imread('virat.jpeg',1)\n",
    "image = cv2.resize(image,(400,300))\n",
    "x, y = 50, 50\n",
    "width, height = 100, 100\n",
    "roi = image[y:y + height, x:x + width]\n",
    "cv2.imshow('CROPPED IMAGE', roi)\n",
    "cv2.waitKey(0)\n",
    "cv2.destroyAllWindows()"
   ]
  },
  {
   "cell_type": "code",
   "execution_count": 177,
   "id": "53a61ef3-adfc-4c10-b569-a8b191e36588",
   "metadata": {},
   "outputs": [],
   "source": [
    "import cv2\n",
    "image = cv2.imread(\"virat.jpeg\")\n",
    "image = cv2.resize(image,(300,200))\n",
    "res=cv2.rotate(image,cv2.ROTATE_180)\n",
    "cv2.imshow('ORIGINAL IMAGE',image)\n",
    "cv2.imshow('FLIPPED IMAGE', res)\n",
    "cv2.waitKey(0)\n",
    "cv2.destroyAllWindows()"
   ]
  },
  {
   "cell_type": "code",
   "execution_count": 178,
   "id": "6dfcb3e8-7d57-4458-a5c9-c1fdeed99aaa",
   "metadata": {},
   "outputs": [],
   "source": [
    "import cv2\n",
    "image = cv2.imread(\"virat.jpeg\")\n",
    "image = cv2.resize(image,(300,200))\n",
    "res=cv2.rotate(image,cv2.ROTATE_90_CLOCKWISE)\n",
    "cv2.imshow('ORIGINAL IMAGE',image)\n",
    "cv2.imshow('FLIPPED IMAGE', res)\n",
    "cv2.waitKey(0)\n",
    "cv2.destroyAllWindows()"
   ]
  },
  {
   "cell_type": "code",
   "execution_count": 179,
   "id": "8cec6ac0-f2d8-4be7-a3c6-89f6092ebf42",
   "metadata": {},
   "outputs": [
    {
     "data": {
      "text/plain": [
       "True"
      ]
     },
     "execution_count": 179,
     "metadata": {},
     "output_type": "execute_result"
    }
   ],
   "source": [
    "import cv2\n",
    "img = cv2.imread(\"virat.jpeg\")\n",
    "img = cv2.resize(img,(300,200))\n",
    "cv2.imwrite('dip.jpeg',img)"
   ]
  },
  {
   "cell_type": "code",
   "execution_count": null,
   "id": "5f1e4034-1d0e-44b2-b97f-be9090e7b48a",
   "metadata": {},
   "outputs": [],
   "source": []
  },
  {
   "cell_type": "code",
   "execution_count": null,
   "id": "fb1b1749-36c1-4a94-8e2e-937070215844",
   "metadata": {},
   "outputs": [],
   "source": []
  }
 ],
 "metadata": {
  "kernelspec": {
   "display_name": "Python 3 (ipykernel)",
   "language": "python",
   "name": "python3"
  },
  "language_info": {
   "codemirror_mode": {
    "name": "ipython",
    "version": 3
   },
   "file_extension": ".py",
   "mimetype": "text/x-python",
   "name": "python",
   "nbconvert_exporter": "python",
   "pygments_lexer": "ipython3",
   "version": "3.12.4"
  }
 },
 "nbformat": 4,
 "nbformat_minor": 5
}
